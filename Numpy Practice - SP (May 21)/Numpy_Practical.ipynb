{
 "cells": [
  {
   "cell_type": "markdown",
   "metadata": {},
   "source": [
    "# Numpy Practical"
   ]
  },
  {
   "cell_type": "code",
   "execution_count": 34,
   "metadata": {},
   "outputs": [
    {
     "name": "stdout",
     "output_type": "stream",
     "text": [
      "1.19.2\n"
     ]
    }
   ],
   "source": [
    "import numpy as np\n",
    "\n",
    "print(np.__version__)"
   ]
  },
  {
   "cell_type": "markdown",
   "metadata": {},
   "source": [
    "## Section 3: Create Numpy Arrays"
   ]
  },
  {
   "cell_type": "markdown",
   "metadata": {},
   "source": [
    "### Task 1"
   ]
  },
  {
   "cell_type": "code",
   "execution_count": 5,
   "metadata": {},
   "outputs": [
    {
     "data": {
      "text/plain": [
       "array([0, 1, 2, 3, 4, 5, 6, 7])"
      ]
     },
     "execution_count": 5,
     "metadata": {},
     "output_type": "execute_result"
    }
   ],
   "source": [
    "# 1a\n",
    "\n",
    "np.arange(0,8)"
   ]
  },
  {
   "cell_type": "code",
   "execution_count": 6,
   "metadata": {},
   "outputs": [
    {
     "data": {
      "text/plain": [
       "array([1.2, 1.4, 1.6, 1.8, 2. ])"
      ]
     },
     "execution_count": 6,
     "metadata": {},
     "output_type": "execute_result"
    }
   ],
   "source": [
    "# 1b\n",
    "\n",
    "np.linspace(1.2,2.0,5)"
   ]
  },
  {
   "cell_type": "code",
   "execution_count": 4,
   "metadata": {},
   "outputs": [
    {
     "data": {
      "text/plain": [
       "array(['Mary', 'John', 'Peter', 'Christine'], dtype='<U9')"
      ]
     },
     "execution_count": 4,
     "metadata": {},
     "output_type": "execute_result"
    }
   ],
   "source": [
    "# 1c\n",
    "\n",
    "np.array(['Mary', 'John', 'Peter', 'Christine'])"
   ]
  },
  {
   "cell_type": "code",
   "execution_count": 7,
   "metadata": {},
   "outputs": [
    {
     "data": {
      "text/plain": [
       "array(['2017-10-01', '2017-10-02', '2017-10-03', '2017-10-04',\n",
       "       '2017-10-05', '2017-10-06', '2017-10-07', '2017-10-08',\n",
       "       '2017-10-09', '2017-10-10', '2017-10-11', '2017-10-12',\n",
       "       '2017-10-13', '2017-10-14', '2017-10-15', '2017-10-16',\n",
       "       '2017-10-17', '2017-10-18', '2017-10-19', '2017-10-20',\n",
       "       '2017-10-21', '2017-10-22', '2017-10-23', '2017-10-24',\n",
       "       '2017-10-25', '2017-10-26', '2017-10-27', '2017-10-28',\n",
       "       '2017-10-29', '2017-10-30', '2017-10-31'], dtype='datetime64[D]')"
      ]
     },
     "execution_count": 7,
     "metadata": {},
     "output_type": "execute_result"
    }
   ],
   "source": [
    "# 1d\n",
    "\n",
    "np.arange(\"2017-10-01\", \"2017-11-01\", dtype=\"datetime64\")"
   ]
  },
  {
   "cell_type": "code",
   "execution_count": 4,
   "metadata": {},
   "outputs": [
    {
     "data": {
      "text/plain": [
       "array([0.43878774, 0.53255357, 0.44747665, 0.67115098, 0.04640065,\n",
       "       0.58789634, 0.28127718, 0.89088986, 0.12837574, 0.45430901])"
      ]
     },
     "execution_count": 4,
     "metadata": {},
     "output_type": "execute_result"
    }
   ],
   "source": [
    "# 1e\n",
    "\n",
    "np.random.random(10)"
   ]
  },
  {
   "cell_type": "code",
   "execution_count": 12,
   "metadata": {},
   "outputs": [
    {
     "data": {
      "text/plain": [
       "array([154, 153, 133, 106, 186, 200, 183, 153, 154, 194, 188, 120, 173,\n",
       "       114, 140, 171, 160, 130, 148, 122])"
      ]
     },
     "execution_count": 12,
     "metadata": {},
     "output_type": "execute_result"
    }
   ],
   "source": [
    "# 1f\n",
    "\n",
    "np.random.randint(100,201,(20))"
   ]
  },
  {
   "cell_type": "code",
   "execution_count": 13,
   "metadata": {},
   "outputs": [
    {
     "data": {
      "text/plain": [
       "array([ 5.        ,  5.10204082,  5.20408163,  5.30612245,  5.40816327,\n",
       "        5.51020408,  5.6122449 ,  5.71428571,  5.81632653,  5.91836735,\n",
       "        6.02040816,  6.12244898,  6.2244898 ,  6.32653061,  6.42857143,\n",
       "        6.53061224,  6.63265306,  6.73469388,  6.83673469,  6.93877551,\n",
       "        7.04081633,  7.14285714,  7.24489796,  7.34693878,  7.44897959,\n",
       "        7.55102041,  7.65306122,  7.75510204,  7.85714286,  7.95918367,\n",
       "        8.06122449,  8.16326531,  8.26530612,  8.36734694,  8.46938776,\n",
       "        8.57142857,  8.67346939,  8.7755102 ,  8.87755102,  8.97959184,\n",
       "        9.08163265,  9.18367347,  9.28571429,  9.3877551 ,  9.48979592,\n",
       "        9.59183673,  9.69387755,  9.79591837,  9.89795918, 10.        ])"
      ]
     },
     "execution_count": 13,
     "metadata": {},
     "output_type": "execute_result"
    }
   ],
   "source": [
    "# 1g\n",
    "\n",
    "np.linspace(5,10,50)"
   ]
  },
  {
   "cell_type": "markdown",
   "metadata": {},
   "source": [
    "### Task 2"
   ]
  },
  {
   "cell_type": "code",
   "execution_count": 18,
   "metadata": {},
   "outputs": [
    {
     "data": {
      "text/plain": [
       "array([[1, 2, 3, 4],\n",
       "       [5, 6, 7, 8]])"
      ]
     },
     "execution_count": 18,
     "metadata": {},
     "output_type": "execute_result"
    }
   ],
   "source": [
    "# 2a\n",
    "\n",
    "np.array([(1,2,3,4),(5,6,7,8)])"
   ]
  },
  {
   "cell_type": "code",
   "execution_count": 22,
   "metadata": {},
   "outputs": [
    {
     "data": {
      "text/plain": [
       "array([[1.5, 2.5, 3.5],\n",
       "       [4.5, 5.5, 6.5],\n",
       "       [7.5, 8.5, 9.5]])"
      ]
     },
     "execution_count": 22,
     "metadata": {},
     "output_type": "execute_result"
    }
   ],
   "source": [
    "# 2b\n",
    "\n",
    "np.array([(1.5,2.5,3.5),(4.5,5.5,6.5),(7.5,8.5,9.5)])"
   ]
  },
  {
   "cell_type": "code",
   "execution_count": 24,
   "metadata": {},
   "outputs": [
    {
     "data": {
      "text/plain": [
       "array([[ 1.6,  1.7,  1.8],\n",
       "       [ 2.5,  5. ,  7.5],\n",
       "       [20. , 40. , 60. ]])"
      ]
     },
     "execution_count": 24,
     "metadata": {},
     "output_type": "execute_result"
    }
   ],
   "source": [
    "# 2c\n",
    "\n",
    "np.array([(1.6,1.7,1.8),(2.5,5.0,7.5),(20,40,60)])"
   ]
  },
  {
   "cell_type": "code",
   "execution_count": 25,
   "metadata": {},
   "outputs": [
    {
     "data": {
      "text/plain": [
       "array([[0., 0., 0., 0.],\n",
       "       [0., 0., 0., 0.],\n",
       "       [0., 0., 0., 0.]])"
      ]
     },
     "execution_count": 25,
     "metadata": {},
     "output_type": "execute_result"
    }
   ],
   "source": [
    "# 2d\n",
    "\n",
    "np.zeros((3,4))"
   ]
  },
  {
   "cell_type": "code",
   "execution_count": 26,
   "metadata": {},
   "outputs": [
    {
     "data": {
      "text/plain": [
       "array([[1., 1., 1., 1., 1.],\n",
       "       [1., 1., 1., 1., 1.],\n",
       "       [1., 1., 1., 1., 1.],\n",
       "       [1., 1., 1., 1., 1.],\n",
       "       [1., 1., 1., 1., 1.]])"
      ]
     },
     "execution_count": 26,
     "metadata": {},
     "output_type": "execute_result"
    }
   ],
   "source": [
    "# 2e\n",
    "\n",
    "np.ones((5,5))"
   ]
  },
  {
   "cell_type": "code",
   "execution_count": 27,
   "metadata": {},
   "outputs": [
    {
     "data": {
      "text/plain": [
       "array([[10.5, 10.5, 10.5],\n",
       "       [10.5, 10.5, 10.5],\n",
       "       [10.5, 10.5, 10.5],\n",
       "       [10.5, 10.5, 10.5]])"
      ]
     },
     "execution_count": 27,
     "metadata": {},
     "output_type": "execute_result"
    }
   ],
   "source": [
    "# 2f\n",
    "\n",
    "np.full((4,3),10.5)"
   ]
  },
  {
   "cell_type": "code",
   "execution_count": 28,
   "metadata": {},
   "outputs": [
    {
     "data": {
      "text/plain": [
       "array([[1., 0., 0., 0.],\n",
       "       [0., 1., 0., 0.],\n",
       "       [0., 0., 1., 0.],\n",
       "       [0., 0., 0., 1.]])"
      ]
     },
     "execution_count": 28,
     "metadata": {},
     "output_type": "execute_result"
    }
   ],
   "source": [
    "# 2g\n",
    "\n",
    "np.eye(4)"
   ]
  },
  {
   "cell_type": "code",
   "execution_count": 34,
   "metadata": {},
   "outputs": [
    {
     "data": {
      "text/plain": [
       "array([[6, 6, 3, 3, 5, 5, 6, 4],\n",
       "       [4, 3, 1, 6, 1, 2, 5, 5],\n",
       "       [6, 6, 1, 6, 4, 6, 3, 2],\n",
       "       [5, 1, 5, 5, 3, 3, 5, 3]])"
      ]
     },
     "execution_count": 34,
     "metadata": {},
     "output_type": "execute_result"
    }
   ],
   "source": [
    "# 2h\n",
    "\n",
    "np.random.randint(1,7,(4,8))"
   ]
  },
  {
   "cell_type": "markdown",
   "metadata": {},
   "source": [
    "## Section 4: Inspect Numpy Arrays"
   ]
  },
  {
   "cell_type": "markdown",
   "metadata": {},
   "source": [
    "### Task 1"
   ]
  },
  {
   "cell_type": "code",
   "execution_count": 69,
   "metadata": {},
   "outputs": [
    {
     "data": {
      "text/plain": [
       "array([[b'red', b'green', b'yellow', b'blue'],\n",
       "       [b'apple', b'orange', b'pear', b'durian'],\n",
       "       [b'2017-08-12', b'2017-09-05', b'2017-10-18', b'2017-11-23'],\n",
       "       [b'95', b'67', b'88', b'70']], dtype=object)"
      ]
     },
     "execution_count": 69,
     "metadata": {},
     "output_type": "execute_result"
    }
   ],
   "source": [
    "# 1a, b, c, d\n",
    "\n",
    "a = np.array([1.55,1.73,1.9,1.72,1.66,1.8])\n",
    "b = np.array([('red', 'green', 'yellow', 'blue'),(True,False, False, True), \n",
    "('2017-10-01', '2017-11-11', '2017-12-23', '2018-03-31')])\n",
    "c = np.array([[(10,9,8,7),(6,5,4,3)], [(1,2,3,4),(5,6,7,8)]])\n",
    "d = np.genfromtxt(\"data1.txt\", delimiter=\",\", dtype=\"O\") # Issues with handling multiple data types with np.loadtxt()\n",
    "\n",
    "d"
   ]
  },
  {
   "cell_type": "code",
   "execution_count": 59,
   "metadata": {},
   "outputs": [
    {
     "name": "stdout",
     "output_type": "stream",
     "text": [
      "(6,)\n",
      "(3, 4)\n",
      "(2, 2, 4)\n",
      "(4, 4)\n"
     ]
    }
   ],
   "source": [
    "# np.shape\n",
    "\n",
    "print(a.shape);print(b.shape);print(c.shape);print(d.shape)"
   ]
  },
  {
   "cell_type": "code",
   "execution_count": 60,
   "metadata": {},
   "outputs": [
    {
     "name": "stdout",
     "output_type": "stream",
     "text": [
      "6\n",
      "3\n",
      "2\n",
      "4\n"
     ]
    }
   ],
   "source": [
    "# len(ndarray)\n",
    "\n",
    "print(len(a));print(len(b));print(len(c));print(len(d))"
   ]
  },
  {
   "cell_type": "code",
   "execution_count": 61,
   "metadata": {},
   "outputs": [
    {
     "name": "stdout",
     "output_type": "stream",
     "text": [
      "1\n",
      "2\n",
      "3\n",
      "2\n"
     ]
    }
   ],
   "source": [
    "# np.ndim\n",
    "\n",
    "print(a.ndim);print(b.ndim);print(c.ndim);print(d.ndim)"
   ]
  },
  {
   "cell_type": "code",
   "execution_count": 62,
   "metadata": {},
   "outputs": [
    {
     "name": "stdout",
     "output_type": "stream",
     "text": [
      "6\n",
      "12\n",
      "16\n",
      "16\n"
     ]
    }
   ],
   "source": [
    "# np.size\n",
    "\n",
    "print(a.size);print(b.size);print(c.size);print(d.size)"
   ]
  },
  {
   "cell_type": "markdown",
   "metadata": {},
   "source": [
    "### Task 2"
   ]
  },
  {
   "cell_type": "code",
   "execution_count": 70,
   "metadata": {},
   "outputs": [
    {
     "name": "stdout",
     "output_type": "stream",
     "text": [
      "<class 'numpy.ndarray'> float64\n",
      "<class 'numpy.ndarray'> <U10\n",
      "<class 'numpy.ndarray'> int32\n",
      "<class 'numpy.ndarray'> object\n"
     ]
    }
   ],
   "source": [
    "print(type(a), a.dtype);print(type(b), b.dtype);print(type(c), c.dtype);print(type(d), d.dtype)"
   ]
  },
  {
   "cell_type": "markdown",
   "metadata": {},
   "source": [
    "## Section 5: Manipulating Array Shapes"
   ]
  },
  {
   "cell_type": "markdown",
   "metadata": {},
   "source": [
    "### Task 1"
   ]
  },
  {
   "cell_type": "code",
   "execution_count": 79,
   "metadata": {},
   "outputs": [
    {
     "name": "stdout",
     "output_type": "stream",
     "text": [
      "['Mary' 'John' 'Bob' 'Zoe' 'Chris' 'Ann' 'Leon' 'Kathy' 'Sam'] (9,)\n"
     ]
    }
   ],
   "source": [
    "a = np.array([ ['Mary', 'John','Bob'], \n",
    "               ['Zoe', 'Chris','Ann'],\n",
    "               ['Leon', 'Kathy','Sam']])\n",
    "a = a.flatten()\n",
    "print(a, a.shape)"
   ]
  },
  {
   "cell_type": "markdown",
   "metadata": {},
   "source": [
    "### Task 2"
   ]
  },
  {
   "cell_type": "code",
   "execution_count": 82,
   "metadata": {},
   "outputs": [
    {
     "name": "stdout",
     "output_type": "stream",
     "text": [
      "[[15 16 17 18 19]\n",
      " [20 21 22 23 24]\n",
      " [25 26 27 28 29]] (3, 5)\n"
     ]
    }
   ],
   "source": [
    "# 2a\n",
    "\n",
    "a = np.arange(15,30)\n",
    "a = a.reshape(3,5)\n",
    "print(a, a.shape)"
   ]
  },
  {
   "cell_type": "code",
   "execution_count": 83,
   "metadata": {},
   "outputs": [
    {
     "name": "stdout",
     "output_type": "stream",
     "text": [
      "[[ 1  2  3  4]\n",
      " [ 5  6  7  8]\n",
      " [ 9 10 11 12]] (3, 4)\n"
     ]
    }
   ],
   "source": [
    "# 2b\n",
    "\n",
    "b = np.array([ [1,2,3,4,5,6], [7,8,9,10,11,12]])\n",
    "b = b.reshape(3,4)\n",
    "print(b, b.shape)"
   ]
  },
  {
   "cell_type": "markdown",
   "metadata": {},
   "source": [
    "### Task 3"
   ]
  },
  {
   "cell_type": "code",
   "execution_count": 87,
   "metadata": {},
   "outputs": [
    {
     "name": "stdout",
     "output_type": "stream",
     "text": [
      "[[ 1  2  3  4  5  6]\n",
      " [ 7  8  9 10 11 12]] (2, 6)\n",
      "[[ 1  7]\n",
      " [ 2  8]\n",
      " [ 3  9]\n",
      " [ 4 10]\n",
      " [ 5 11]\n",
      " [ 6 12]] (6, 2)\n",
      "[[ 1  7]\n",
      " [ 2  8]\n",
      " [ 3  9]\n",
      " [ 4 10]\n",
      " [ 5 11]\n",
      " [ 6 12]] (6, 2)\n"
     ]
    }
   ],
   "source": [
    "a = np.array([ [1,2,3,4,5,6], [7,8,9,10,11,12]])\n",
    "b = a.transpose()\n",
    "c = np.transpose(a)\n",
    "print(a, a.shape);print(b, b.shape);print(c, c.shape)"
   ]
  },
  {
   "cell_type": "markdown",
   "metadata": {},
   "source": [
    "## Section 6: Manipulating Array Content"
   ]
  },
  {
   "cell_type": "markdown",
   "metadata": {},
   "source": [
    "### Task 1"
   ]
  },
  {
   "cell_type": "code",
   "execution_count": 97,
   "metadata": {},
   "outputs": [
    {
     "data": {
      "text/plain": [
       "array([[ 1. ,  2. ,  3. ],\n",
       "       [ 4. ,  5. ,  6. ],\n",
       "       [ 7. ,  8. ,  9. ],\n",
       "       [ 1.5,  1.5,  1.5],\n",
       "       [ 1.5,  1.5,  1.5],\n",
       "       [ 1.5,  1.5,  1.5],\n",
       "       [ 0. ,  1. ,  2. ],\n",
       "       [ 3. ,  4. ,  5. ],\n",
       "       [ 6. ,  7. ,  8. ],\n",
       "       [ 9. , 10. , 11. ],\n",
       "       [12. , 13. , 14. ]])"
      ]
     },
     "execution_count": 97,
     "metadata": {},
     "output_type": "execute_result"
    }
   ],
   "source": [
    "# 1a\n",
    "\n",
    "a = np.array([[ 1,2,3],[ 4,5,6],[7,8,9]])\n",
    "b = np.full((3,3),1.5)\n",
    "c = np.arange(0,15).reshape(5,3)\n",
    "\n",
    "np.concatenate((a,b,c), axis=0) # The axis along which the arrays will be joined. In this case, by Rows so Columns have the same number"
   ]
  },
  {
   "cell_type": "code",
   "execution_count": 99,
   "metadata": {},
   "outputs": [
    {
     "data": {
      "text/plain": [
       "array([[  1,   2,   3,   4, 165, 175, 168, 146, 127, 103,   0,   1,   2,\n",
       "          3,   4,   5,   6,   7,   8,   9],\n",
       "       [  4,   5,   6,   7, 116, 142, 156, 145, 106, 161,  10,  11,  12,\n",
       "         13,  14,  15,  16,  17,  18,  19],\n",
       "       [  7,   8,   9,  10, 157, 191, 180, 187, 136, 120,  20,  21,  22,\n",
       "         23,  24,  25,  26,  27,  28,  29],\n",
       "       [ 11,  12,  13,  14, 120, 142, 112, 126, 160, 145,  30,  31,  32,\n",
       "         33,  34,  35,  36,  37,  38,  39]])"
      ]
     },
     "execution_count": 99,
     "metadata": {},
     "output_type": "execute_result"
    }
   ],
   "source": [
    "# 1b\n",
    "\n",
    "a = np.array([[ 1,2,3,4],[ 4,5,6,7],[7,8,9,10],[11,12,13,14]])\n",
    "b = np.random.randint(100,200,(4,6))\n",
    "c = np.arange(0,40).reshape(4,10)\n",
    "\n",
    "np.concatenate((a,b,c), axis=1) # Concatenate to Columns, so Rows must be the same."
   ]
  },
  {
   "cell_type": "markdown",
   "metadata": {},
   "source": [
    "### Task 2"
   ]
  },
  {
   "cell_type": "code",
   "execution_count": 102,
   "metadata": {},
   "outputs": [
    {
     "data": {
      "text/plain": [
       "[array([0, 1, 2, 3, 4]),\n",
       " array([5, 6, 7, 8, 9]),\n",
       " array([10, 11, 12, 13, 14]),\n",
       " array([15, 16, 17, 18, 19]),\n",
       " array([20, 21, 22, 23, 24]),\n",
       " array([25, 26, 27, 28, 29]),\n",
       " array([30, 31, 32, 33, 34]),\n",
       " array([35, 36, 37, 38, 39]),\n",
       " array([40, 41, 42, 43, 44]),\n",
       " array([45, 46, 47, 48, 49]),\n",
       " array([50, 51, 52, 53, 54]),\n",
       " array([55, 56, 57, 58, 59]),\n",
       " array([60, 61, 62, 63, 64]),\n",
       " array([65, 66, 67, 68, 69]),\n",
       " array([70, 71, 72, 73, 74]),\n",
       " array([75, 76, 77, 78, 79]),\n",
       " array([80, 81, 82, 83, 84]),\n",
       " array([85, 86, 87, 88, 89]),\n",
       " array([90, 91, 92, 93, 94]),\n",
       " array([95, 96, 97, 98, 99])]"
      ]
     },
     "execution_count": 102,
     "metadata": {},
     "output_type": "execute_result"
    }
   ],
   "source": [
    "# 2a\n",
    "\n",
    "x = np.arange(100)\n",
    "x = np.split(x,20)\n",
    "\n",
    "x"
   ]
  },
  {
   "cell_type": "code",
   "execution_count": 104,
   "metadata": {},
   "outputs": [
    {
     "data": {
      "text/plain": [
       "[array([0, 1, 2, 3, 4, 5, 6, 7, 8, 9]),\n",
       " array([10, 11, 12, 13, 14, 15, 16, 17, 18, 19, 20, 21, 22, 23, 24]),\n",
       " array([25, 26, 27, 28, 29, 30, 31, 32, 33, 34, 35, 36, 37, 38, 39, 40, 41,\n",
       "        42, 43, 44]),\n",
       " array([45, 46, 47, 48, 49, 50, 51, 52, 53, 54, 55, 56, 57, 58, 59, 60, 61,\n",
       "        62, 63, 64, 65, 66, 67, 68, 69, 70, 71, 72, 73, 74]),\n",
       " array([75, 76, 77, 78, 79, 80, 81, 82, 83, 84, 85, 86, 87, 88, 89, 90, 91,\n",
       "        92, 93, 94]),\n",
       " array([95, 96, 97, 98, 99])]"
      ]
     },
     "execution_count": 104,
     "metadata": {},
     "output_type": "execute_result"
    }
   ],
   "source": [
    "# 2b\n",
    "\n",
    "x = np.arange(100)\n",
    "x = np.split(x,[10,25,45,75,95])\n",
    "\n",
    "x"
   ]
  },
  {
   "cell_type": "markdown",
   "metadata": {},
   "source": [
    "## Section 7: Copying Arrays"
   ]
  },
  {
   "cell_type": "markdown",
   "metadata": {},
   "source": [
    "### Task 1"
   ]
  },
  {
   "cell_type": "code",
   "execution_count": 35,
   "metadata": {},
   "outputs": [
    {
     "name": "stdout",
     "output_type": "stream",
     "text": [
      "[1 2 3]\n",
      "[1 2 3]\n",
      "[1 2 3]\n"
     ]
    }
   ],
   "source": [
    "# 1a\n",
    "\n",
    "x = np.array([1,2,3])\n",
    "y = x\n",
    "z = np.copy(x)\n",
    "\n",
    "print(x);print(y);print(z)\n",
    "\n",
    "# No difference between y and z"
   ]
  },
  {
   "cell_type": "code",
   "execution_count": 38,
   "metadata": {},
   "outputs": [],
   "source": [
    "# 1b\n",
    "\n",
    "x = np.array([1, 2, 3])\n",
    "y = x # The reason y takes on the old value of x is because it uses\n",
    "# the new value of x since x variable has the same ID in memory\n",
    "z = np.copy(x)\n",
    "x[0] = 10 # Hmm, why does y take the new value of x but y is evaluated earlier on and shld thus follow x's old values?"
   ]
  },
  {
   "cell_type": "code",
   "execution_count": 37,
   "metadata": {},
   "outputs": [
    {
     "name": "stdout",
     "output_type": "stream",
     "text": [
      "15\n",
      "15\n",
      "6\n"
     ]
    }
   ],
   "source": [
    "print(x.sum());print(y.sum());print(z.sum()) # x is 15, y is 15 and z is 6."
   ]
  },
  {
   "cell_type": "code",
   "execution_count": 42,
   "metadata": {},
   "outputs": [
    {
     "name": "stdout",
     "output_type": "stream",
     "text": [
      "2363877638288\n",
      "2363877638288\n",
      "2363877638864\n"
     ]
    }
   ],
   "source": [
    "print(id(x));print(id(y));print((id(z))) # Now you can see that x and y share the same ID"
   ]
  },
  {
   "cell_type": "markdown",
   "metadata": {},
   "source": [
    "## Section 8: Sorting Arrays"
   ]
  },
  {
   "cell_type": "markdown",
   "metadata": {},
   "source": [
    "### Task 1"
   ]
  },
  {
   "cell_type": "code",
   "execution_count": 195,
   "metadata": {},
   "outputs": [
    {
     "name": "stdout",
     "output_type": "stream",
     "text": [
      "**Before sorting**\n",
      "[151 159 137 196 157 133 107 182 121 139]\n",
      "\n",
      "**After sorting**\n",
      "[107 121 133 137 139 151 157 159 182 196]\n",
      "\n"
     ]
    }
   ],
   "source": [
    "# 1a\n",
    "\n",
    "arr_1 = np.random.randint(100,200,10)\n",
    "\n",
    "print(\"**Before sorting**\")\n",
    "print(arr_1)\n",
    "print()\n",
    "\n",
    "print(\"**After sorting**\")\n",
    "print(np.sort(arr_1))\n",
    "print()"
   ]
  },
  {
   "cell_type": "code",
   "execution_count": 200,
   "metadata": {},
   "outputs": [
    {
     "name": "stdout",
     "output_type": "stream",
     "text": [
      "**Before sorting**\n",
      "[[13  5 11 11 17]\n",
      " [17  1 13  5  6]\n",
      " [16 17  3  5  9]]\n",
      "\n",
      "**After sorting**\n",
      "[[13  1  3  5  6]\n",
      " [16  5 11  5  9]\n",
      " [17 17 13 11 17]]\n",
      "\n"
     ]
    }
   ],
   "source": [
    "# 1b\n",
    "\n",
    "arr_2 = np.random.randint(1,20,(3,5))\n",
    "\n",
    "print(\"**Before sorting**\")\n",
    "print(arr_2)\n",
    "print()\n",
    "\n",
    "print(\"**After sorting**\")\n",
    "print(np.sort(arr_2, axis=0))\n",
    "print()"
   ]
  },
  {
   "cell_type": "code",
   "execution_count": 203,
   "metadata": {},
   "outputs": [
    {
     "name": "stdout",
     "output_type": "stream",
     "text": [
      "**Before sorting - original array**\n",
      "[[192 162 186 156 146]\n",
      " [139 178 132 174 105]]\n",
      "\n",
      "**After calling sort method - original array**\n",
      "[[192 162 186 156 146]\n",
      " [139 178 132 174 105]]\n",
      "\n",
      "**After calling sort method - copy of sorted array**\n",
      "[[146 156 162 186 192]\n",
      " [105 132 139 174 178]]\n",
      "\n"
     ]
    }
   ],
   "source": [
    "# 1c\n",
    "\n",
    "arr_3 = np.random.randint(100,200,(2,5))\n",
    "\n",
    "print(\"**Before sorting - original array**\")\n",
    "print(arr_3)\n",
    "print()\n",
    "\n",
    "arr_3_sorted = np.sort(arr_3, axis=1)\n",
    "print(\"**After calling sort method - original array**\")\n",
    "print(arr_3)\n",
    "print()\n",
    "\n",
    "print(\"**After calling sort method - copy of sorted array**\")\n",
    "print(arr_3_sorted)\n",
    "print()"
   ]
  },
  {
   "cell_type": "markdown",
   "metadata": {},
   "source": [
    "## Section 9: Subsetting and Indexing"
   ]
  },
  {
   "cell_type": "markdown",
   "metadata": {},
   "source": [
    "### Task 1"
   ]
  },
  {
   "cell_type": "code",
   "execution_count": 139,
   "metadata": {},
   "outputs": [
    {
     "name": "stdout",
     "output_type": "stream",
     "text": [
      "[ 1  2  3  4  5  6  7  8  9 10 11 12 13 14 15 16 17 18 19 20 21 22 23 24\n",
      " 25 26 27 28 29 30 31 32 33 34 35 36 37 38 39 40 41 42 43 44 45 46 47 48\n",
      " 49 50 51 52 53 54 55 56 57 58 59 60 61 62 63 64 65 66 67 68 69 70 71 72\n",
      " 73 74 75 76 77 78 79 80 81 82 83 84 85 86 87 88 89 90 91 92 93 94 95 96\n",
      " 97 98 99]\n",
      "[[  1   2   3   4]\n",
      " [100 200 300 400]\n",
      " [  5   6   7   8]\n",
      " [  9  10  11  12]]\n"
     ]
    }
   ],
   "source": [
    "a = np.arange(1,100,1)\n",
    "b = np.array([[1,2,3,4], [100,200,300,400],  [5,6,7,8],  [9,10,11,12] ])\n",
    "\n",
    "print(a);print(b)"
   ]
  },
  {
   "cell_type": "code",
   "execution_count": 141,
   "metadata": {},
   "outputs": [
    {
     "name": "stdout",
     "output_type": "stream",
     "text": [
      "4 int32\n",
      "[ 9 10 11 12] int32\n"
     ]
    }
   ],
   "source": [
    "# 1a\n",
    "# a[3] is 4 with data type int32\n",
    "# b[3] is [9 10 11 12] with data type int32\n",
    "\n",
    "print(a[3], a[3].dtype);print(b[3], b[3].dtype)"
   ]
  },
  {
   "cell_type": "code",
   "execution_count": 142,
   "metadata": {},
   "outputs": [
    {
     "data": {
      "text/plain": [
       "array([[100, 200, 300, 400],\n",
       "       [  5,   6,   7,   8]])"
      ]
     },
     "execution_count": 142,
     "metadata": {},
     "output_type": "execute_result"
    }
   ],
   "source": [
    "# 1b\n",
    "\n",
    "b[1:3]"
   ]
  },
  {
   "cell_type": "code",
   "execution_count": 150,
   "metadata": {},
   "outputs": [
    {
     "data": {
      "text/plain": [
       "array([  4, 400,   8,  12])"
      ]
     },
     "execution_count": 150,
     "metadata": {},
     "output_type": "execute_result"
    }
   ],
   "source": [
    "# 1c\n",
    "\n",
    "b[:,-1]"
   ]
  },
  {
   "cell_type": "code",
   "execution_count": 177,
   "metadata": {},
   "outputs": [
    {
     "data": {
      "text/plain": [
       "array([100, 400])"
      ]
     },
     "execution_count": 177,
     "metadata": {},
     "output_type": "execute_result"
    }
   ],
   "source": [
    "# 1d\n",
    "\n",
    "b[1,[0,-1]]"
   ]
  },
  {
   "cell_type": "code",
   "execution_count": 172,
   "metadata": {},
   "outputs": [
    {
     "data": {
      "text/plain": [
       "array([[ 6,  7,  8],\n",
       "       [10, 11, 12]])"
      ]
     },
     "execution_count": 172,
     "metadata": {},
     "output_type": "execute_result"
    }
   ],
   "source": [
    "# 1e\n",
    "\n",
    "b[2:,1:]"
   ]
  },
  {
   "cell_type": "code",
   "execution_count": 180,
   "metadata": {},
   "outputs": [
    {
     "data": {
      "text/plain": [
       "array([11, 13, 15, 17, 19])"
      ]
     },
     "execution_count": 180,
     "metadata": {},
     "output_type": "execute_result"
    }
   ],
   "source": [
    "# 1f\n",
    "\n",
    "a[10:20:2]"
   ]
  },
  {
   "cell_type": "code",
   "execution_count": 185,
   "metadata": {},
   "outputs": [
    {
     "data": {
      "text/plain": [
       "array([99, 98, 97, 96, 95, 94, 93, 92, 91, 90, 89, 88, 87, 86, 85, 84, 83,\n",
       "       82, 81, 80, 79, 78, 77, 76, 75, 74, 73, 72, 71, 70, 69, 68, 67, 66,\n",
       "       65, 64, 63, 62, 61, 60, 59, 58, 57, 56, 55, 54, 53, 52, 51, 50, 49,\n",
       "       48, 47, 46, 45, 44, 43, 42, 41, 40, 39, 38, 37, 36, 35, 34, 33, 32,\n",
       "       31, 30, 29, 28, 27, 26, 25, 24, 23, 22, 21, 20, 19, 18, 17, 16, 15,\n",
       "       14, 13, 12, 11, 10,  9,  8,  7,  6,  5,  4,  3,  2,  1])"
      ]
     },
     "execution_count": 185,
     "metadata": {},
     "output_type": "execute_result"
    }
   ],
   "source": [
    "# 1g\n",
    "\n",
    "a[::-1]"
   ]
  },
  {
   "cell_type": "markdown",
   "metadata": {},
   "source": [
    "### Task 2"
   ]
  },
  {
   "cell_type": "code",
   "execution_count": 204,
   "metadata": {},
   "outputs": [
    {
     "name": "stdout",
     "output_type": "stream",
     "text": [
      "[[ 0  1  2  3  4  5  6  7  8  9]\n",
      " [10 11 12 13 14 15 16 17 18 19]\n",
      " [20 21 22 23 24 25 26 27 28 29]\n",
      " [30 31 32 33 34 35 36 37 38 39]]\n",
      "[[174 162 134]\n",
      " [199 134 196]\n",
      " [139 169 180]]\n"
     ]
    }
   ],
   "source": [
    "a = np.array((np.arange(0,10),\n",
    "             np.arange(10,20),\n",
    "             np.arange(20,30),\n",
    "             np.arange(30,40)))\n",
    "\n",
    "b = np.random.randint(100,200,(3,3))\n",
    "\n",
    "print(a);print(b)"
   ]
  },
  {
   "cell_type": "code",
   "execution_count": 205,
   "metadata": {},
   "outputs": [
    {
     "data": {
      "text/plain": [
       "array([ 0,  2,  4,  6,  8, 10, 12, 14, 16, 18, 20, 22, 24, 26, 28, 30, 32,\n",
       "       34, 36, 38])"
      ]
     },
     "execution_count": 205,
     "metadata": {},
     "output_type": "execute_result"
    }
   ],
   "source": [
    "# 2a\n",
    "\n",
    "# even = a % 2 == 0\n",
    "# a[even]\n",
    "a[a%2==0]"
   ]
  },
  {
   "cell_type": "code",
   "execution_count": 206,
   "metadata": {},
   "outputs": [
    {
     "data": {
      "text/plain": [
       "array([174, 162, 199, 196, 169, 180])"
      ]
     },
     "execution_count": 206,
     "metadata": {},
     "output_type": "execute_result"
    }
   ],
   "source": [
    "# 2b\n",
    "\n",
    "b[b>150]"
   ]
  },
  {
   "cell_type": "markdown",
   "metadata": {},
   "source": [
    "### Task 3"
   ]
  },
  {
   "cell_type": "code",
   "execution_count": 214,
   "metadata": {},
   "outputs": [
    {
     "data": {
      "text/plain": [
       "array([[0., 1., 2.],\n",
       "       [3., 4., 5.],\n",
       "       [6., 7., 8.]])"
      ]
     },
     "execution_count": 214,
     "metadata": {},
     "output_type": "execute_result"
    }
   ],
   "source": [
    "b = np.arange(9.).reshape(3, 3)\n",
    "b"
   ]
  },
  {
   "cell_type": "code",
   "execution_count": 217,
   "metadata": {},
   "outputs": [
    {
     "name": "stdout",
     "output_type": "stream",
     "text": [
      "(array([2, 2, 2], dtype=int64), array([0, 1, 2], dtype=int64)) 2\n"
     ]
    }
   ],
   "source": [
    "b5 = np.where(b>5)\n",
    "print(b5, len(b5))"
   ]
  },
  {
   "cell_type": "code",
   "execution_count": 240,
   "metadata": {},
   "outputs": [
    {
     "name": "stdout",
     "output_type": "stream",
     "text": [
      "*** Values of where the elements are, and their rows/columns***\n",
      "Value: 6.0 in row 2, column 0\n",
      "Value: 7.0 in row 2, column 1\n",
      "Value: 8.0 in row 2, column 2\n"
     ]
    }
   ],
   "source": [
    "print(\"*** Values of where the elements are, and their rows/columns***\")\n",
    "for x in range(len(b5)+1):\n",
    "    print(\"Value: {} in row {}, column {}\".format(b[b5[0][x]][b5[1][x]], b5[0][x], b5[1][x]))"
   ]
  },
  {
   "cell_type": "code",
   "execution_count": 241,
   "metadata": {},
   "outputs": [
    {
     "name": "stdout",
     "output_type": "stream",
     "text": [
      "6.0\n",
      "7.0\n",
      "8.0\n"
     ]
    }
   ],
   "source": [
    "# Workings to help visualize the index and len\n",
    "\n",
    "print(b[2][0])\n",
    "print(b[2][1])\n",
    "print(b[2][2])"
   ]
  },
  {
   "cell_type": "code",
   "execution_count": 242,
   "metadata": {},
   "outputs": [
    {
     "name": "stdout",
     "output_type": "stream",
     "text": [
      "0\n",
      "1\n",
      "2\n"
     ]
    }
   ],
   "source": [
    "# Workings to help visualize the index and len\n",
    "\n",
    "for x in range(len(b5)+1):\n",
    "    print(x)"
   ]
  },
  {
   "cell_type": "code",
   "execution_count": 243,
   "metadata": {},
   "outputs": [
    {
     "name": "stdout",
     "output_type": "stream",
     "text": [
      "2\n",
      "2\n",
      "2\n",
      "0\n",
      "1\n",
      "2\n"
     ]
    }
   ],
   "source": [
    "# Workings to help visualize the index and len\n",
    "\n",
    "print(b5[0][0])\n",
    "print(b5[0][1])\n",
    "print(b5[0][2])\n",
    "\n",
    "print(b5[1][0])\n",
    "print(b5[1][1])\n",
    "print(b5[1][2])"
   ]
  },
  {
   "cell_type": "markdown",
   "metadata": {},
   "source": [
    "## Section 10: Array Math"
   ]
  },
  {
   "cell_type": "markdown",
   "metadata": {},
   "source": [
    "### Task 1"
   ]
  },
  {
   "cell_type": "code",
   "execution_count": 7,
   "metadata": {},
   "outputs": [
    {
     "ename": "ValueError",
     "evalue": "operands could not be broadcast together with shapes (20,5) (10,10) ",
     "output_type": "error",
     "traceback": [
      "\u001b[1;31m---------------------------------------------------------------------------\u001b[0m",
      "\u001b[1;31mValueError\u001b[0m                                Traceback (most recent call last)",
      "\u001b[1;32m<ipython-input-7-a4e3a2c85a44>\u001b[0m in \u001b[0;36m<module>\u001b[1;34m\u001b[0m\n\u001b[0;32m      5\u001b[0m \u001b[0mc\u001b[0m \u001b[1;33m=\u001b[0m \u001b[0mnp\u001b[0m\u001b[1;33m.\u001b[0m\u001b[0marray\u001b[0m\u001b[1;33m(\u001b[0m\u001b[1;33m[\u001b[0m\u001b[1;33m[\u001b[0m\u001b[1;36m1\u001b[0m\u001b[1;33m,\u001b[0m\u001b[1;36m2\u001b[0m\u001b[1;33m,\u001b[0m\u001b[1;36m3\u001b[0m\u001b[1;33m]\u001b[0m\u001b[1;33m,\u001b[0m \u001b[1;33m[\u001b[0m\u001b[1;36m4\u001b[0m\u001b[1;33m,\u001b[0m\u001b[1;36m5\u001b[0m\u001b[1;33m,\u001b[0m\u001b[1;36m6\u001b[0m\u001b[1;33m]\u001b[0m\u001b[1;33m]\u001b[0m\u001b[1;33m)\u001b[0m\u001b[1;33m\u001b[0m\u001b[1;33m\u001b[0m\u001b[0m\n\u001b[0;32m      6\u001b[0m \u001b[1;33m\u001b[0m\u001b[0m\n\u001b[1;32m----> 7\u001b[1;33m \u001b[0ma\u001b[0m\u001b[1;33m+\u001b[0m\u001b[0mb\u001b[0m \u001b[1;31m# Results in a ValueError since standard arithmetic operators such\u001b[0m\u001b[1;33m\u001b[0m\u001b[1;33m\u001b[0m\u001b[0m\n\u001b[0m\u001b[0;32m      8\u001b[0m \u001b[1;31m# as: +, -, , /, *, %, are applied on individual elements, so,\u001b[0m\u001b[1;33m\u001b[0m\u001b[1;33m\u001b[0m\u001b[1;33m\u001b[0m\u001b[0m\n\u001b[0;32m      9\u001b[0m \u001b[1;31m# the arrays have to be of the same size\u001b[0m\u001b[1;33m\u001b[0m\u001b[1;33m\u001b[0m\u001b[1;33m\u001b[0m\u001b[0m\n",
      "\u001b[1;31mValueError\u001b[0m: operands could not be broadcast together with shapes (20,5) (10,10) "
     ]
    }
   ],
   "source": [
    "# 1a\n",
    "\n",
    "a = np.arange(100,200,1).reshape(20,5) \n",
    "b = np.arange(1,2000,20).reshape(10,10) \n",
    "c = np.array([[1,2,3], [4,5,6]])\n",
    "\n",
    "a+b # Results in a ValueError since standard arithmetic operators such \n",
    "# as: +, -, , /, *, %, are applied on individual elements, so, \n",
    "# the arrays have to be of the same size"
   ]
  },
  {
   "cell_type": "code",
   "execution_count": 9,
   "metadata": {},
   "outputs": [
    {
     "data": {
      "text/plain": [
       "array([[100, 102, 104, 106, 108],\n",
       "       [110, 112, 114, 116, 118],\n",
       "       [120, 122, 124, 126, 128],\n",
       "       [130, 132, 134, 136, 138],\n",
       "       [140, 142, 144, 146, 148],\n",
       "       [150, 152, 154, 156, 158],\n",
       "       [160, 162, 164, 166, 168],\n",
       "       [170, 172, 174, 176, 178],\n",
       "       [180, 182, 184, 186, 188],\n",
       "       [190, 192, 194, 196, 198],\n",
       "       [200, 202, 204, 206, 208],\n",
       "       [210, 212, 214, 216, 218],\n",
       "       [220, 222, 224, 226, 228],\n",
       "       [230, 232, 234, 236, 238],\n",
       "       [240, 242, 244, 246, 248],\n",
       "       [250, 252, 254, 256, 258],\n",
       "       [260, 262, 264, 266, 268],\n",
       "       [270, 272, 274, 276, 278],\n",
       "       [280, 282, 284, 286, 288],\n",
       "       [290, 292, 294, 296, 298]])"
      ]
     },
     "execution_count": 9,
     "metadata": {},
     "output_type": "execute_result"
    }
   ],
   "source": [
    "# 1b\n",
    "\n",
    "a2 = np.arange(100).reshape(20,5)\n",
    "a + a2"
   ]
  },
  {
   "cell_type": "code",
   "execution_count": 10,
   "metadata": {},
   "outputs": [
    {
     "data": {
      "text/plain": [
       "array([[   1,   21,   41,   61,   81,  101,  121,  141,  161,  181],\n",
       "       [ 201,  221,  241,  261,  281,  301,  321,  341,  361,  381],\n",
       "       [ 401,  421,  441,  461,  481,  501,  521,  541,  561,  581],\n",
       "       [ 601,  621,  641,  661,  681,  701,  721,  741,  761,  781],\n",
       "       [ 801,  821,  841,  861,  881,  901,  921,  941,  961,  981],\n",
       "       [1001, 1021, 1041, 1061, 1081, 1101, 1121, 1141, 1161, 1181],\n",
       "       [1201, 1221, 1241, 1261, 1281, 1301, 1321, 1341, 1361, 1381],\n",
       "       [1401, 1421, 1441, 1461, 1481, 1501, 1521, 1541, 1561, 1581],\n",
       "       [1601, 1621, 1641, 1661, 1681, 1701, 1721, 1741, 1761, 1781],\n",
       "       [1801, 1821, 1841, 1861, 1881, 1901, 1921, 1941, 1961, 1981]])"
      ]
     },
     "execution_count": 10,
     "metadata": {},
     "output_type": "execute_result"
    }
   ],
   "source": [
    "# 1c\n",
    "\n",
    "b"
   ]
  },
  {
   "cell_type": "code",
   "execution_count": 17,
   "metadata": {},
   "outputs": [
    {
     "data": {
      "text/plain": [
       "array([[  2,  23,  44],\n",
       "       [ 65,  86, 107]])"
      ]
     },
     "execution_count": 17,
     "metadata": {},
     "output_type": "execute_result"
    }
   ],
   "source": [
    "b1 = b[0][0:6].reshape(2,3) # Since c has a shape of 2x3\n",
    "\n",
    "b1 + c"
   ]
  },
  {
   "cell_type": "code",
   "execution_count": 22,
   "metadata": {},
   "outputs": [
    {
     "name": "stdout",
     "output_type": "stream",
     "text": [
      "[[100 102 104]\n",
      " [106 108 110]] (2, 3) (2, 3)\n"
     ]
    }
   ],
   "source": [
    "# 1d\n",
    "\n",
    "mask_even = a%2==0\n",
    "a2 = a[mask_even][0:6].reshape(2,3)\n",
    "\n",
    "print(a2, a2.shape, c.shape)"
   ]
  },
  {
   "cell_type": "code",
   "execution_count": 23,
   "metadata": {},
   "outputs": [
    {
     "data": {
      "text/plain": [
       "array([[100, 204, 312],\n",
       "       [424, 540, 660]])"
      ]
     },
     "execution_count": 23,
     "metadata": {},
     "output_type": "execute_result"
    }
   ],
   "source": [
    "a2 * c"
   ]
  },
  {
   "cell_type": "code",
   "execution_count": 25,
   "metadata": {},
   "outputs": [
    {
     "data": {
      "text/plain": [
       "array([[10, 20, 30],\n",
       "       [40, 50, 60]])"
      ]
     },
     "execution_count": 25,
     "metadata": {},
     "output_type": "execute_result"
    }
   ],
   "source": [
    "c2 = c * 10\n",
    "c2"
   ]
  },
  {
   "cell_type": "code",
   "execution_count": 26,
   "metadata": {},
   "outputs": [
    {
     "data": {
      "text/plain": [
       "array([[10.        ,  5.1       ,  3.46666667],\n",
       "       [ 2.65      ,  2.16      ,  1.83333333]])"
      ]
     },
     "execution_count": 26,
     "metadata": {},
     "output_type": "execute_result"
    }
   ],
   "source": [
    "a2 / c2"
   ]
  },
  {
   "cell_type": "markdown",
   "metadata": {},
   "source": [
    "## Section 11: Statistical Methods"
   ]
  },
  {
   "cell_type": "markdown",
   "metadata": {},
   "source": [
    "### Task 1"
   ]
  },
  {
   "cell_type": "code",
   "execution_count": 13,
   "metadata": {},
   "outputs": [
    {
     "name": "stdout",
     "output_type": "stream",
     "text": [
      "Contents of array a\n",
      " [[ 0  1  2  3  4  5  6  7  8  9]\n",
      " [10 11 12 13 14 15 16 17 18 19]\n",
      " [20 21 22 23 24 25 26 27 28 29]\n",
      " [30 31 32 33 34 35 36 37 38 39]]\n"
     ]
    }
   ],
   "source": [
    "# 1a\n",
    "\n",
    "a = np.array((np.arange(0,10),\n",
    "            np.arange(10,20),\n",
    "            np.arange(20,30),\n",
    "            np.arange(30,40)))\n",
    "\n",
    "print(\"Contents of array a\\n\", a)"
   ]
  },
  {
   "cell_type": "code",
   "execution_count": 14,
   "metadata": {},
   "outputs": [
    {
     "name": "stdout",
     "output_type": "stream",
     "text": [
      "*** Sum of all numbers in a***\n",
      " 780\n"
     ]
    }
   ],
   "source": [
    "print(\"*** Sum of all numbers in a***\\n\", a.sum())\n",
    "# np.sum(a)"
   ]
  },
  {
   "cell_type": "code",
   "execution_count": 15,
   "metadata": {},
   "outputs": [
    {
     "name": "stdout",
     "output_type": "stream",
     "text": [
      "*** Means of all numbers in a***\n",
      " 19.5\n"
     ]
    }
   ],
   "source": [
    "# 1b\n",
    "\n",
    "print(\"*** Means of all numbers in a***\\n\", a.mean())\n",
    "# np.mean(a)"
   ]
  },
  {
   "cell_type": "code",
   "execution_count": 22,
   "metadata": {},
   "outputs": [
    {
     "name": "stdout",
     "output_type": "stream",
     "text": [
      "*** Sum of all numbers in each row ***\n",
      "Row 1 sum = 45\n",
      "Row 2 sum = 145\n",
      "Row 3 sum = 245\n",
      "Row 4 sum = 345\n"
     ]
    }
   ],
   "source": [
    "# 1c\n",
    "\n",
    "print(\"*** Sum of all numbers in each row ***\")\n",
    "for x in range(4):\n",
    "    print(\"Row {} sum = {}\".format(x+1, a.sum(axis=1)[x]))"
   ]
  },
  {
   "cell_type": "markdown",
   "metadata": {},
   "source": [
    "### Task 2"
   ]
  },
  {
   "cell_type": "code",
   "execution_count": 29,
   "metadata": {},
   "outputs": [
    {
     "name": "stdout",
     "output_type": "stream",
     "text": [
      "Contents of array a\n",
      " [10.  10.5 11.  11.5 12.  12.5 13.  13.5 14.  14.5 15.  15.5 16.  16.5\n",
      " 17.  17.5 18.  18.5 19.  19.5 20.  20.5 21.  21.5 22.  22.5 23.  23.5\n",
      " 24.  24.5 25.  25.5 26.  26.5 27.  27.5 28.  28.5 29.  29.5 30.  30.5\n",
      " 31.  31.5 32.  32.5 33.  33.5 34.  34.5 35.  35.5 36.  36.5 37.  37.5\n",
      " 38.  38.5 39.  39.5 40.  40.5 41.  41.5 42.  42.5 43.  43.5 44.  44.5\n",
      " 45.  45.5 46.  46.5 47.  47.5 48.  48.5 49.  49.5] \n",
      "\n",
      "Contents of array b\n",
      " [10.  10.1 10.2 10.3 10.4 10.5 10.6 10.7 10.8 10.9 11.  11.1 11.2 11.3\n",
      " 11.4 11.5 11.6 11.7 11.8 11.9 12.  12.1 12.2 12.3 12.4 12.5 12.6 12.7\n",
      " 12.8 12.9 13.  13.1 13.2 13.3 13.4 13.5 13.6 13.7 13.8 13.9 14.  14.1\n",
      " 14.2 14.3 14.4 14.5 14.6 14.7 14.8 14.9 15.  15.1 15.2 15.3 15.4 15.5\n",
      " 15.6 15.7 15.8 15.9 16.  16.1 16.2 16.3 16.4 16.5 16.6 16.7 16.8 16.9\n",
      " 17.  17.1 17.2 17.3 17.4 17.5 17.6 17.7 17.8 17.9 18.  18.1 18.2 18.3\n",
      " 18.4 18.5 18.6 18.7 18.8 18.9 19.  19.1 19.2 19.3 19.4 19.5 19.6 19.7\n",
      " 19.8 19.9]\n"
     ]
    }
   ],
   "source": [
    "# Task 2a\n",
    "\n",
    "a = np.arange(10,50,0.5)\n",
    "b = np.arange(10,20,0.1)\n",
    "\n",
    "print(\"Contents of array a\\n\",a,\"\\n\\nContents of array b\\n\",b)"
   ]
  },
  {
   "cell_type": "code",
   "execution_count": 30,
   "metadata": {},
   "outputs": [
    {
     "name": "stdout",
     "output_type": "stream",
     "text": [
      "*** Standard deviation ***\n",
      "SD of a:  11.546103238755489 \n",
      "SD of b:  2.8866070047722014\n"
     ]
    }
   ],
   "source": [
    "print(\"*** Standard deviation ***\\nSD of a: \",np.std(a),\"\\nSD of b: \",np.std(b))"
   ]
  },
  {
   "cell_type": "code",
   "execution_count": 31,
   "metadata": {},
   "outputs": [
    {
     "name": "stdout",
     "output_type": "stream",
     "text": [
      "*** Variance ***\n",
      "VAR of a:  133.3125 \n",
      "VAR of b:  8.332499999999941\n"
     ]
    }
   ],
   "source": [
    "# 2b\n",
    "\n",
    "print(\"*** Variance ***\\nVAR of a: \",np.var(a),\"\\nVAR of b: \",np.var(b))"
   ]
  },
  {
   "cell_type": "markdown",
   "metadata": {},
   "source": [
    "### Task 3"
   ]
  },
  {
   "cell_type": "code",
   "execution_count": 76,
   "metadata": {},
   "outputs": [
    {
     "name": "stdout",
     "output_type": "stream",
     "text": [
      "***Contents of array a\n",
      " [[105 483 857 659]\n",
      " [503 274 310 912]\n",
      " [347 655 459 209]]\n"
     ]
    }
   ],
   "source": [
    "a = np.random.randint(1,1000,(3,4))\n",
    "\n",
    "print(\"***Contents of array a\\n\",a)"
   ]
  },
  {
   "cell_type": "code",
   "execution_count": 106,
   "metadata": {},
   "outputs": [
    {
     "data": {
      "text/plain": [
       "array([857, 912, 655])"
      ]
     },
     "execution_count": 106,
     "metadata": {},
     "output_type": "execute_result"
    }
   ],
   "source": [
    "# Max value of each row in array a\n",
    "\n",
    "a.max(axis=1)"
   ]
  },
  {
   "cell_type": "code",
   "execution_count": 104,
   "metadata": {},
   "outputs": [
    {
     "name": "stdout",
     "output_type": "stream",
     "text": [
      "Max a =  912\n",
      "Row and Column of 912 is ([1], [3])\n"
     ]
    }
   ],
   "source": [
    "# Max value of entire array and its row and column\n",
    "\n",
    "print(\"Max a = \", a.max())\n",
    "b = np.unravel_index(np.argmax(a), a.shape) # See: https://numpy.org/doc/stable/reference/generated/numpy.argmax.html?highlight=argmax#numpy.argmax\n",
    "print(\"Row and Column of {} is ([{}], [{}])\".format(a.max(), b[0], b[1]))"
   ]
  },
  {
   "cell_type": "code",
   "execution_count": 107,
   "metadata": {},
   "outputs": [
    {
     "data": {
      "text/plain": [
       "array([105, 274, 310, 209])"
      ]
     },
     "execution_count": 107,
     "metadata": {},
     "output_type": "execute_result"
    }
   ],
   "source": [
    "# Min value of each column in array a\n",
    "\n",
    "a.min(axis=0)"
   ]
  },
  {
   "cell_type": "code",
   "execution_count": 108,
   "metadata": {},
   "outputs": [
    {
     "name": "stdout",
     "output_type": "stream",
     "text": [
      "Min a =  105\n",
      "Row and Column of 105 is ([0], [0])\n"
     ]
    }
   ],
   "source": [
    "# Min value of entire array and its row and column\n",
    "\n",
    "print(\"Min a = \", a.min())\n",
    "c = np.unravel_index(np.argmin(a), a.shape)\n",
    "print(\"Row and Column of {} is ([{}], [{}])\".format(a.min(), c[0], c[1]))"
   ]
  },
  {
   "cell_type": "markdown",
   "metadata": {},
   "source": [
    "### Task 4"
   ]
  },
  {
   "cell_type": "code",
   "execution_count": 111,
   "metadata": {},
   "outputs": [
    {
     "name": "stdout",
     "output_type": "stream",
     "text": [
      "***Contents of array a\n",
      " [[ 1  2  3  4  5]\n",
      " [ 6  7  8  9 10]\n",
      " [11 12 13 14 15]\n",
      " [16 17 18 19 20]]\n"
     ]
    }
   ],
   "source": [
    "a = np.arange(1,21).reshape(4,5)\n",
    "\n",
    "print(\"***Contents of array a\\n\", a)"
   ]
  },
  {
   "cell_type": "code",
   "execution_count": 114,
   "metadata": {},
   "outputs": [
    {
     "name": "stdout",
     "output_type": "stream",
     "text": [
      "***Cumulative SUM along x-axis\n",
      " [[ 1  2  3  4  5]\n",
      " [ 7  9 11 13 15]\n",
      " [18 21 24 27 30]\n",
      " [34 38 42 46 50]]\n"
     ]
    }
   ],
   "source": [
    "# 4a\n",
    "# Cumulative Sum along x-axis\n",
    "\n",
    "print(\"***Cumulative SUM along x-axis\\n\", np.cumsum(a, axis=0))"
   ]
  },
  {
   "cell_type": "code",
   "execution_count": 116,
   "metadata": {},
   "outputs": [
    {
     "name": "stdout",
     "output_type": "stream",
     "text": [
      "***Cumulative SUM along y-axis\n",
      " [[ 1  3  6 10 15]\n",
      " [ 6 13 21 30 40]\n",
      " [11 23 36 50 65]\n",
      " [16 33 51 70 90]]\n"
     ]
    }
   ],
   "source": [
    "# Cumulative Sum along y-axis\n",
    "\n",
    "print(\"***Cumulative SUM along y-axis\\n\", np.cumsum(a, axis=1))"
   ]
  },
  {
   "cell_type": "code",
   "execution_count": 117,
   "metadata": {},
   "outputs": [
    {
     "name": "stdout",
     "output_type": "stream",
     "text": [
      "***Cumulative PRODUCT along x-axis\n",
      " [[    1     2     3     4     5]\n",
      " [    6    14    24    36    50]\n",
      " [   66   168   312   504   750]\n",
      " [ 1056  2856  5616  9576 15000]]\n"
     ]
    }
   ],
   "source": [
    "# 4b\n",
    "# Cumulative Product along x-axis\n",
    "\n",
    "print(\"***Cumulative PRODUCT along x-axis\\n\", np.cumprod(a, axis=0))"
   ]
  },
  {
   "cell_type": "code",
   "execution_count": 118,
   "metadata": {},
   "outputs": [
    {
     "name": "stdout",
     "output_type": "stream",
     "text": [
      "***Cumulative PRODUCT along y-axis\n",
      " [[      1       2       6      24     120]\n",
      " [      6      42     336    3024   30240]\n",
      " [     11     132    1716   24024  360360]\n",
      " [     16     272    4896   93024 1860480]]\n"
     ]
    }
   ],
   "source": [
    "# Cumulative Product along y-axis\n",
    "\n",
    "print(\"***Cumulative PRODUCT along y-axis\\n\", np.cumprod(a, axis=1))"
   ]
  },
  {
   "cell_type": "markdown",
   "metadata": {},
   "source": [
    "## Section 12: File I/O on Numpy Arrays"
   ]
  },
  {
   "cell_type": "markdown",
   "metadata": {},
   "source": [
    "### Task 1\n",
    "\n",
    "### dtype - https://numpy.org/doc/stable/reference/arrays.dtypes.html"
   ]
  },
  {
   "cell_type": "code",
   "execution_count": 207,
   "metadata": {},
   "outputs": [],
   "source": [
    "# Read the csv file\n",
    "\n",
    "fname = \"Data/singapore-residents-by-ethnic-group-and-sex-end-june-annual.csv\"\n",
    "data = np.loadtxt(fname, skiprows=1, dtype=[(\"year\",\"i8\"),(\"level1\",\"U50\"),(\"value\",\"i8\")], delimiter=\",\")"
   ]
  },
  {
   "cell_type": "code",
   "execution_count": 208,
   "metadata": {},
   "outputs": [
    {
     "name": "stdout",
     "output_type": "stream",
     "text": [
      "There are altogether 855 rows of data in the file Data/singapore-residents-by-ethnic-group-and-sex-end-june-annual.csv\n"
     ]
    }
   ],
   "source": [
    "# Count total rows of data in the file\n",
    "\n",
    "print(\"There are altogether {} rows of data in the file {}\".format(data.shape[0], fname))"
   ]
  },
  {
   "cell_type": "code",
   "execution_count": 209,
   "metadata": {},
   "outputs": [
    {
     "name": "stdout",
     "output_type": "stream",
     "text": [
      "There are 57 years of data captured from 1960 to 2016\n"
     ]
    }
   ],
   "source": [
    "# Identify unique number of years\n",
    "\n",
    "data_years = data[\"year\"]\n",
    "print(\"There are {} years of data captured from {} to {}\".format(np.unique(data_years).shape[0], data_years.min(), data_years.max()))"
   ]
  },
  {
   "cell_type": "code",
   "execution_count": 210,
   "metadata": {},
   "outputs": [
    {
     "name": "stdout",
     "output_type": "stream",
     "text": [
      "Year with the highest total number of residents: 2016\n",
      "Population Count: 3933559\n"
     ]
    }
   ],
   "source": [
    "# Identify highest total number of residents and year (Boolean Masking)\n",
    "\n",
    "b = data[\"level1\"] == \"Total Residents\" # Firstly, extract the correct Column then identify what values will fit the criteria\n",
    "c = data[b][\"value\"].max() # Returns the highest value from Column \"value\"\n",
    "d = data[b][\"value\"].argmax() # Returns the index value of the highest value from Column \"value\"\n",
    "\n",
    "print(\"Year with the highest total number of residents: {}\\nPopulation Count: {}\".format(data[b][\"year\"][d], c))"
   ]
  },
  {
   "cell_type": "code",
   "execution_count": 211,
   "metadata": {},
   "outputs": [],
   "source": [
    "# keyword = 'Total Residents' # Identify what is to search for within the Row\n",
    "# column_to_search = data['level1'] # Identify what Column to focus the search on\n",
    "# out = [i for i, v in enumerate(column_to_search) if keyword in v] # Extracts the Row position when \"Total Residents\" is listed\n",
    "# data_totalresidents = data[out] # Extracts only the Rows with \"Total Residents\" to the data_totalresidents variable"
   ]
  },
  {
   "cell_type": "code",
   "execution_count": 212,
   "metadata": {},
   "outputs": [
    {
     "name": "stdout",
     "output_type": "stream",
     "text": [
      "Year with the lowes total number of residents: 1960\n",
      "Population Count: 1646400\n"
     ]
    }
   ],
   "source": [
    "# Identify lowest total number of residents and year\n",
    "\n",
    "e = data[\"level1\"] == \"Total Residents\" # Boolean mask for when value of the Column \"level1\" is \"Total Residents\"\n",
    "f = data[e][\"value\"].min() # Returns the minimum value of the \"value\" Column, which is listing the lowest total number of residents\n",
    "g = data[e][\"value\"].argmin() # Returns the index position of the min value of the \"value\" Column\n",
    "\n",
    "print(\"Year with the lowes total number of residents: {}\\nPopulation Count: {}\".format(data[g][\"year\"], f))"
   ]
  },
  {
   "cell_type": "markdown",
   "metadata": {},
   "source": [
    "### The End\n",
    "### Thank you!"
   ]
  },
  {
   "cell_type": "code",
   "execution_count": null,
   "metadata": {},
   "outputs": [],
   "source": []
  },
  {
   "cell_type": "code",
   "execution_count": null,
   "metadata": {},
   "outputs": [],
   "source": []
  },
  {
   "cell_type": "code",
   "execution_count": null,
   "metadata": {},
   "outputs": [],
   "source": []
  }
 ],
 "metadata": {
  "kernelspec": {
   "display_name": "Python 3",
   "language": "python",
   "name": "python3"
  },
  "language_info": {
   "codemirror_mode": {
    "name": "ipython",
    "version": 3
   },
   "file_extension": ".py",
   "mimetype": "text/x-python",
   "name": "python",
   "nbconvert_exporter": "python",
   "pygments_lexer": "ipython3",
   "version": "3.8.5"
  }
 },
 "nbformat": 4,
 "nbformat_minor": 4
}
